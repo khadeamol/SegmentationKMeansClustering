{
 "cells": [
  {
   "cell_type": "markdown",
   "id": "6b990636",
   "metadata": {},
   "source": [
    "## Customer Segmentation "
   ]
  },
  {
   "cell_type": "code",
   "execution_count": 35,
   "id": "370369bf",
   "metadata": {},
   "outputs": [],
   "source": [
    "### Import necessary packages\n",
    "\n",
    "import numpy as np\n",
    "import vaex as vx\n",
    "from sklearn.model_selection import train_test_split\n",
    "from sklearn.linear_model import LinearRegression\n",
    "import matplotlib.pyplot as plt\n",
    "import seaborn as sns\n",
    "from scipy import stats\n",
    "from sklearn.preprocessing import StandardScaler\n",
    "from sklearn.datasets import make_blobs\n",
    "from sklearn.cluster import KMeans\n",
    "from sklearn.metrics import silhouette_score\n",
    "from sklearn.decomposition import PCA\n",
    "from mpl_toolkits.mplot3d import Axes3D"
   ]
  },
  {
   "cell_type": "markdown",
   "id": "b4921d7a",
   "metadata": {},
   "source": [
    "### Import file and print sample of the data"
   ]
  },
  {
   "cell_type": "code",
   "execution_count": 51,
   "id": "5ba55a59",
   "metadata": {},
   "outputs": [],
   "source": [
    "df = pd.read_csv(\"/Users/amol/Downloads/data.csv\", encoding = 'unicode_escape')\n"
   ]
  },
  {
   "cell_type": "code",
   "execution_count": 52,
   "id": "96925a05",
   "metadata": {},
   "outputs": [
    {
     "data": {
      "text/html": [
       "<div>\n",
       "<style scoped>\n",
       "    .dataframe tbody tr th:only-of-type {\n",
       "        vertical-align: middle;\n",
       "    }\n",
       "\n",
       "    .dataframe tbody tr th {\n",
       "        vertical-align: top;\n",
       "    }\n",
       "\n",
       "    .dataframe thead th {\n",
       "        text-align: right;\n",
       "    }\n",
       "</style>\n",
       "<table border=\"1\" class=\"dataframe\">\n",
       "  <thead>\n",
       "    <tr style=\"text-align: right;\">\n",
       "      <th></th>\n",
       "      <th>InvoiceNo</th>\n",
       "      <th>StockCode</th>\n",
       "      <th>Description</th>\n",
       "      <th>Quantity</th>\n",
       "      <th>InvoiceDate</th>\n",
       "      <th>UnitPrice</th>\n",
       "      <th>CustomerID</th>\n",
       "      <th>Country</th>\n",
       "    </tr>\n",
       "  </thead>\n",
       "  <tbody>\n",
       "    <tr>\n",
       "      <th>0</th>\n",
       "      <td>536365</td>\n",
       "      <td>85123A</td>\n",
       "      <td>WHITE HANGING HEART T-LIGHT HOLDER</td>\n",
       "      <td>6</td>\n",
       "      <td>12/1/2010 8:26</td>\n",
       "      <td>2.55</td>\n",
       "      <td>17850.0</td>\n",
       "      <td>United Kingdom</td>\n",
       "    </tr>\n",
       "    <tr>\n",
       "      <th>1</th>\n",
       "      <td>536365</td>\n",
       "      <td>71053</td>\n",
       "      <td>WHITE METAL LANTERN</td>\n",
       "      <td>6</td>\n",
       "      <td>12/1/2010 8:26</td>\n",
       "      <td>3.39</td>\n",
       "      <td>17850.0</td>\n",
       "      <td>United Kingdom</td>\n",
       "    </tr>\n",
       "    <tr>\n",
       "      <th>2</th>\n",
       "      <td>536365</td>\n",
       "      <td>84406B</td>\n",
       "      <td>CREAM CUPID HEARTS COAT HANGER</td>\n",
       "      <td>8</td>\n",
       "      <td>12/1/2010 8:26</td>\n",
       "      <td>2.75</td>\n",
       "      <td>17850.0</td>\n",
       "      <td>United Kingdom</td>\n",
       "    </tr>\n",
       "    <tr>\n",
       "      <th>3</th>\n",
       "      <td>536365</td>\n",
       "      <td>84029G</td>\n",
       "      <td>KNITTED UNION FLAG HOT WATER BOTTLE</td>\n",
       "      <td>6</td>\n",
       "      <td>12/1/2010 8:26</td>\n",
       "      <td>3.39</td>\n",
       "      <td>17850.0</td>\n",
       "      <td>United Kingdom</td>\n",
       "    </tr>\n",
       "    <tr>\n",
       "      <th>4</th>\n",
       "      <td>536365</td>\n",
       "      <td>84029E</td>\n",
       "      <td>RED WOOLLY HOTTIE WHITE HEART.</td>\n",
       "      <td>6</td>\n",
       "      <td>12/1/2010 8:26</td>\n",
       "      <td>3.39</td>\n",
       "      <td>17850.0</td>\n",
       "      <td>United Kingdom</td>\n",
       "    </tr>\n",
       "  </tbody>\n",
       "</table>\n",
       "</div>"
      ],
      "text/plain": [
       "  InvoiceNo StockCode                          Description  Quantity  \\\n",
       "0    536365    85123A   WHITE HANGING HEART T-LIGHT HOLDER         6   \n",
       "1    536365     71053                  WHITE METAL LANTERN         6   \n",
       "2    536365    84406B       CREAM CUPID HEARTS COAT HANGER         8   \n",
       "3    536365    84029G  KNITTED UNION FLAG HOT WATER BOTTLE         6   \n",
       "4    536365    84029E       RED WOOLLY HOTTIE WHITE HEART.         6   \n",
       "\n",
       "      InvoiceDate  UnitPrice  CustomerID         Country  \n",
       "0  12/1/2010 8:26       2.55     17850.0  United Kingdom  \n",
       "1  12/1/2010 8:26       3.39     17850.0  United Kingdom  \n",
       "2  12/1/2010 8:26       2.75     17850.0  United Kingdom  \n",
       "3  12/1/2010 8:26       3.39     17850.0  United Kingdom  \n",
       "4  12/1/2010 8:26       3.39     17850.0  United Kingdom  "
      ]
     },
     "execution_count": 52,
     "metadata": {},
     "output_type": "execute_result"
    }
   ],
   "source": [
    "df.head(5)"
   ]
  },
  {
   "cell_type": "code",
   "execution_count": 53,
   "id": "cc6fcd22",
   "metadata": {
    "scrolled": true
   },
   "outputs": [
    {
     "data": {
      "text/plain": [
       "(541909, 8)"
      ]
     },
     "execution_count": 53,
     "metadata": {},
     "output_type": "execute_result"
    }
   ],
   "source": [
    "df.shape"
   ]
  },
  {
   "cell_type": "markdown",
   "id": "9c1dfad1",
   "metadata": {},
   "source": [
    "### Evaluating the data for RFM: Recency, Frequency, Monetary Value"
   ]
  },
  {
   "cell_type": "code",
   "execution_count": 57,
   "id": "dcc5f255",
   "metadata": {},
   "outputs": [],
   "source": [
    "df['Date'] = pd.to_datetime(df['InvoiceDate'])\n",
    "df['Rank'] = df.sort_values(['CustomerID', 'Date']).groupby(['CustomerID'])['Date'].rank(method='min').astype(int)\n",
    "df_rec = df[df['Rank']==1]"
   ]
  },
  {
   "cell_type": "code",
   "execution_count": 58,
   "id": "e64734bd",
   "metadata": {
    "scrolled": true
   },
   "outputs": [
    {
     "data": {
      "text/html": [
       "<div>\n",
       "<style scoped>\n",
       "    .dataframe tbody tr th:only-of-type {\n",
       "        vertical-align: middle;\n",
       "    }\n",
       "\n",
       "    .dataframe tbody tr th {\n",
       "        vertical-align: top;\n",
       "    }\n",
       "\n",
       "    .dataframe thead th {\n",
       "        text-align: right;\n",
       "    }\n",
       "</style>\n",
       "<table border=\"1\" class=\"dataframe\">\n",
       "  <thead>\n",
       "    <tr style=\"text-align: right;\">\n",
       "      <th></th>\n",
       "      <th>InvoiceNo</th>\n",
       "      <th>StockCode</th>\n",
       "      <th>Description</th>\n",
       "      <th>Quantity</th>\n",
       "      <th>InvoiceDate</th>\n",
       "      <th>UnitPrice</th>\n",
       "      <th>CustomerID</th>\n",
       "      <th>Country</th>\n",
       "      <th>Date</th>\n",
       "      <th>Rank</th>\n",
       "    </tr>\n",
       "  </thead>\n",
       "  <tbody>\n",
       "    <tr>\n",
       "      <th>0</th>\n",
       "      <td>536365</td>\n",
       "      <td>85123A</td>\n",
       "      <td>WHITE HANGING HEART T-LIGHT HOLDER</td>\n",
       "      <td>6</td>\n",
       "      <td>12/1/2010 8:26</td>\n",
       "      <td>2.55</td>\n",
       "      <td>17850.0</td>\n",
       "      <td>United Kingdom</td>\n",
       "      <td>2010-12-01 08:26:00</td>\n",
       "      <td>1</td>\n",
       "    </tr>\n",
       "    <tr>\n",
       "      <th>1</th>\n",
       "      <td>536365</td>\n",
       "      <td>71053</td>\n",
       "      <td>WHITE METAL LANTERN</td>\n",
       "      <td>6</td>\n",
       "      <td>12/1/2010 8:26</td>\n",
       "      <td>3.39</td>\n",
       "      <td>17850.0</td>\n",
       "      <td>United Kingdom</td>\n",
       "      <td>2010-12-01 08:26:00</td>\n",
       "      <td>1</td>\n",
       "    </tr>\n",
       "    <tr>\n",
       "      <th>2</th>\n",
       "      <td>536365</td>\n",
       "      <td>84406B</td>\n",
       "      <td>CREAM CUPID HEARTS COAT HANGER</td>\n",
       "      <td>8</td>\n",
       "      <td>12/1/2010 8:26</td>\n",
       "      <td>2.75</td>\n",
       "      <td>17850.0</td>\n",
       "      <td>United Kingdom</td>\n",
       "      <td>2010-12-01 08:26:00</td>\n",
       "      <td>1</td>\n",
       "    </tr>\n",
       "    <tr>\n",
       "      <th>3</th>\n",
       "      <td>536365</td>\n",
       "      <td>84029G</td>\n",
       "      <td>KNITTED UNION FLAG HOT WATER BOTTLE</td>\n",
       "      <td>6</td>\n",
       "      <td>12/1/2010 8:26</td>\n",
       "      <td>3.39</td>\n",
       "      <td>17850.0</td>\n",
       "      <td>United Kingdom</td>\n",
       "      <td>2010-12-01 08:26:00</td>\n",
       "      <td>1</td>\n",
       "    </tr>\n",
       "    <tr>\n",
       "      <th>4</th>\n",
       "      <td>536365</td>\n",
       "      <td>84029E</td>\n",
       "      <td>RED WOOLLY HOTTIE WHITE HEART.</td>\n",
       "      <td>6</td>\n",
       "      <td>12/1/2010 8:26</td>\n",
       "      <td>3.39</td>\n",
       "      <td>17850.0</td>\n",
       "      <td>United Kingdom</td>\n",
       "      <td>2010-12-01 08:26:00</td>\n",
       "      <td>1</td>\n",
       "    </tr>\n",
       "  </tbody>\n",
       "</table>\n",
       "</div>"
      ],
      "text/plain": [
       "  InvoiceNo StockCode                          Description  Quantity  \\\n",
       "0    536365    85123A   WHITE HANGING HEART T-LIGHT HOLDER         6   \n",
       "1    536365     71053                  WHITE METAL LANTERN         6   \n",
       "2    536365    84406B       CREAM CUPID HEARTS COAT HANGER         8   \n",
       "3    536365    84029G  KNITTED UNION FLAG HOT WATER BOTTLE         6   \n",
       "4    536365    84029E       RED WOOLLY HOTTIE WHITE HEART.         6   \n",
       "\n",
       "      InvoiceDate  UnitPrice  CustomerID         Country                Date  \\\n",
       "0  12/1/2010 8:26       2.55     17850.0  United Kingdom 2010-12-01 08:26:00   \n",
       "1  12/1/2010 8:26       3.39     17850.0  United Kingdom 2010-12-01 08:26:00   \n",
       "2  12/1/2010 8:26       2.75     17850.0  United Kingdom 2010-12-01 08:26:00   \n",
       "3  12/1/2010 8:26       3.39     17850.0  United Kingdom 2010-12-01 08:26:00   \n",
       "4  12/1/2010 8:26       3.39     17850.0  United Kingdom 2010-12-01 08:26:00   \n",
       "\n",
       "   Rank  \n",
       "0     1  \n",
       "1     1  \n",
       "2     1  \n",
       "3     1  \n",
       "4     1  "
      ]
     },
     "execution_count": 58,
     "metadata": {},
     "output_type": "execute_result"
    }
   ],
   "source": [
    "df.head()"
   ]
  },
  {
   "cell_type": "markdown",
   "id": "0e7b1272",
   "metadata": {},
   "source": [
    "## Recency"
   ]
  },
  {
   "cell_type": "code",
   "execution_count": 60,
   "id": "5215c018",
   "metadata": {},
   "outputs": [
    {
     "data": {
      "text/html": [
       "<div>\n",
       "<style scoped>\n",
       "    .dataframe tbody tr th:only-of-type {\n",
       "        vertical-align: middle;\n",
       "    }\n",
       "\n",
       "    .dataframe tbody tr th {\n",
       "        vertical-align: top;\n",
       "    }\n",
       "\n",
       "    .dataframe thead th {\n",
       "        text-align: right;\n",
       "    }\n",
       "</style>\n",
       "<table border=\"1\" class=\"dataframe\">\n",
       "  <thead>\n",
       "    <tr style=\"text-align: right;\">\n",
       "      <th></th>\n",
       "      <th>InvoiceNo</th>\n",
       "      <th>StockCode</th>\n",
       "      <th>Description</th>\n",
       "      <th>Quantity</th>\n",
       "      <th>InvoiceDate</th>\n",
       "      <th>UnitPrice</th>\n",
       "      <th>CustomerID</th>\n",
       "      <th>Country</th>\n",
       "      <th>Date</th>\n",
       "      <th>Rank</th>\n",
       "    </tr>\n",
       "  </thead>\n",
       "  <tbody>\n",
       "    <tr>\n",
       "      <th>0</th>\n",
       "      <td>536365</td>\n",
       "      <td>85123A</td>\n",
       "      <td>WHITE HANGING HEART T-LIGHT HOLDER</td>\n",
       "      <td>6</td>\n",
       "      <td>12/1/2010 8:26</td>\n",
       "      <td>2.55</td>\n",
       "      <td>17850.0</td>\n",
       "      <td>United Kingdom</td>\n",
       "      <td>2010-12-01 08:26:00</td>\n",
       "      <td>1</td>\n",
       "    </tr>\n",
       "    <tr>\n",
       "      <th>1</th>\n",
       "      <td>536365</td>\n",
       "      <td>71053</td>\n",
       "      <td>WHITE METAL LANTERN</td>\n",
       "      <td>6</td>\n",
       "      <td>12/1/2010 8:26</td>\n",
       "      <td>3.39</td>\n",
       "      <td>17850.0</td>\n",
       "      <td>United Kingdom</td>\n",
       "      <td>2010-12-01 08:26:00</td>\n",
       "      <td>1</td>\n",
       "    </tr>\n",
       "    <tr>\n",
       "      <th>2</th>\n",
       "      <td>536365</td>\n",
       "      <td>84406B</td>\n",
       "      <td>CREAM CUPID HEARTS COAT HANGER</td>\n",
       "      <td>8</td>\n",
       "      <td>12/1/2010 8:26</td>\n",
       "      <td>2.75</td>\n",
       "      <td>17850.0</td>\n",
       "      <td>United Kingdom</td>\n",
       "      <td>2010-12-01 08:26:00</td>\n",
       "      <td>1</td>\n",
       "    </tr>\n",
       "    <tr>\n",
       "      <th>3</th>\n",
       "      <td>536365</td>\n",
       "      <td>84029G</td>\n",
       "      <td>KNITTED UNION FLAG HOT WATER BOTTLE</td>\n",
       "      <td>6</td>\n",
       "      <td>12/1/2010 8:26</td>\n",
       "      <td>3.39</td>\n",
       "      <td>17850.0</td>\n",
       "      <td>United Kingdom</td>\n",
       "      <td>2010-12-01 08:26:00</td>\n",
       "      <td>1</td>\n",
       "    </tr>\n",
       "    <tr>\n",
       "      <th>4</th>\n",
       "      <td>536365</td>\n",
       "      <td>84029E</td>\n",
       "      <td>RED WOOLLY HOTTIE WHITE HEART.</td>\n",
       "      <td>6</td>\n",
       "      <td>12/1/2010 8:26</td>\n",
       "      <td>3.39</td>\n",
       "      <td>17850.0</td>\n",
       "      <td>United Kingdom</td>\n",
       "      <td>2010-12-01 08:26:00</td>\n",
       "      <td>1</td>\n",
       "    </tr>\n",
       "  </tbody>\n",
       "</table>\n",
       "</div>"
      ],
      "text/plain": [
       "  InvoiceNo StockCode                          Description  Quantity  \\\n",
       "0    536365    85123A   WHITE HANGING HEART T-LIGHT HOLDER         6   \n",
       "1    536365     71053                  WHITE METAL LANTERN         6   \n",
       "2    536365    84406B       CREAM CUPID HEARTS COAT HANGER         8   \n",
       "3    536365    84029G  KNITTED UNION FLAG HOT WATER BOTTLE         6   \n",
       "4    536365    84029E       RED WOOLLY HOTTIE WHITE HEART.         6   \n",
       "\n",
       "      InvoiceDate  UnitPrice  CustomerID         Country                Date  \\\n",
       "0  12/1/2010 8:26       2.55     17850.0  United Kingdom 2010-12-01 08:26:00   \n",
       "1  12/1/2010 8:26       3.39     17850.0  United Kingdom 2010-12-01 08:26:00   \n",
       "2  12/1/2010 8:26       2.75     17850.0  United Kingdom 2010-12-01 08:26:00   \n",
       "3  12/1/2010 8:26       3.39     17850.0  United Kingdom 2010-12-01 08:26:00   \n",
       "4  12/1/2010 8:26       3.39     17850.0  United Kingdom 2010-12-01 08:26:00   \n",
       "\n",
       "   Rank  \n",
       "0     1  \n",
       "1     1  \n",
       "2     1  \n",
       "3     1  \n",
       "4     1  "
      ]
     },
     "execution_count": 60,
     "metadata": {},
     "output_type": "execute_result"
    }
   ],
   "source": [
    "# df_rec contains only the most recent orders for the customerID\n",
    "df_rec.head()"
   ]
  },
  {
   "cell_type": "code",
   "execution_count": 64,
   "id": "d48b482b",
   "metadata": {},
   "outputs": [
    {
     "name": "stderr",
     "output_type": "stream",
     "text": [
      "/var/folders/mw/mxt1b_qn1x1_3l322qvcsx_00000gn/T/ipykernel_58797/3505644634.py:1: SettingWithCopyWarning: \n",
      "A value is trying to be set on a copy of a slice from a DataFrame.\n",
      "Try using .loc[row_indexer,col_indexer] = value instead\n",
      "\n",
      "See the caveats in the documentation: https://pandas.pydata.org/pandas-docs/stable/user_guide/indexing.html#returning-a-view-versus-a-copy\n",
      "  df_rec['recency'] = (df_rec['Date'] - pd.to_datetime(min(df_rec['Date']))).dt.days\n"
     ]
    }
   ],
   "source": [
    "df_rec['recency'] = (df_rec['Date'] - pd.to_datetime(min(df_rec['Date']))).dt.days"
   ]
  },
  {
   "cell_type": "code",
   "execution_count": 67,
   "id": "b50ac40a",
   "metadata": {
    "scrolled": true
   },
   "outputs": [
    {
     "name": "stderr",
     "output_type": "stream",
     "text": [
      "/var/folders/mw/mxt1b_qn1x1_3l322qvcsx_00000gn/T/ipykernel_58797/488440147.py:1: FutureWarning: Dropping of nuisance columns in DataFrame reductions (with 'numeric_only=None') is deprecated; in a future version this will raise TypeError.  Select only valid columns before calling the reduction.\n",
      "  df_rec.max()\n"
     ]
    },
    {
     "data": {
      "text/plain": [
       "InvoiceNo                  C581121\n",
       "StockCode                     POST\n",
       "Quantity                     74215\n",
       "InvoiceDate          9/9/2011 9:38\n",
       "UnitPrice                  4287.63\n",
       "CustomerID                 18287.0\n",
       "Country                Unspecified\n",
       "Date           2011-12-09 12:16:00\n",
       "Rank                             1\n",
       "recency                        373\n",
       "dtype: object"
      ]
     },
     "execution_count": 67,
     "metadata": {},
     "output_type": "execute_result"
    }
   ],
   "source": [
    "df_rec.max()"
   ]
  },
  {
   "cell_type": "markdown",
   "id": "53d2976e",
   "metadata": {},
   "source": [
    "## Frequency\n",
    "Calculating how often a customer has placed an order, and merging frequency and recency dataframes into one"
   ]
  },
  {
   "cell_type": "code",
   "execution_count": 69,
   "id": "d5cdbd07",
   "metadata": {},
   "outputs": [],
   "source": [
    "freq = df_rec.groupby('CustomerID')['Date'].count()\n",
    "df_freq = pd.DataFrame(freq).reset_index()\n",
    "df_freq.columns = ['CustomerID', 'frequency']"
   ]
  },
  {
   "cell_type": "code",
   "execution_count": 70,
   "id": "d25de42f",
   "metadata": {},
   "outputs": [
    {
     "data": {
      "text/html": [
       "<div>\n",
       "<style scoped>\n",
       "    .dataframe tbody tr th:only-of-type {\n",
       "        vertical-align: middle;\n",
       "    }\n",
       "\n",
       "    .dataframe tbody tr th {\n",
       "        vertical-align: top;\n",
       "    }\n",
       "\n",
       "    .dataframe thead th {\n",
       "        text-align: right;\n",
       "    }\n",
       "</style>\n",
       "<table border=\"1\" class=\"dataframe\">\n",
       "  <thead>\n",
       "    <tr style=\"text-align: right;\">\n",
       "      <th></th>\n",
       "      <th>CustomerID</th>\n",
       "      <th>frequency</th>\n",
       "      <th>InvoiceNo</th>\n",
       "      <th>StockCode</th>\n",
       "      <th>Description</th>\n",
       "      <th>Quantity</th>\n",
       "      <th>InvoiceDate</th>\n",
       "      <th>UnitPrice</th>\n",
       "      <th>Country</th>\n",
       "      <th>Date</th>\n",
       "      <th>Rank</th>\n",
       "      <th>recency</th>\n",
       "    </tr>\n",
       "  </thead>\n",
       "  <tbody>\n",
       "    <tr>\n",
       "      <th>0</th>\n",
       "      <td>12346.0</td>\n",
       "      <td>1</td>\n",
       "      <td>541431</td>\n",
       "      <td>23166</td>\n",
       "      <td>MEDIUM CERAMIC TOP STORAGE JAR</td>\n",
       "      <td>74215</td>\n",
       "      <td>1/18/2011 10:01</td>\n",
       "      <td>1.04</td>\n",
       "      <td>United Kingdom</td>\n",
       "      <td>2011-01-18 10:01:00</td>\n",
       "      <td>1</td>\n",
       "      <td>48</td>\n",
       "    </tr>\n",
       "    <tr>\n",
       "      <th>1</th>\n",
       "      <td>12347.0</td>\n",
       "      <td>31</td>\n",
       "      <td>537626</td>\n",
       "      <td>85116</td>\n",
       "      <td>BLACK CANDELABRA T-LIGHT HOLDER</td>\n",
       "      <td>12</td>\n",
       "      <td>12/7/2010 14:57</td>\n",
       "      <td>2.10</td>\n",
       "      <td>Iceland</td>\n",
       "      <td>2010-12-07 14:57:00</td>\n",
       "      <td>1</td>\n",
       "      <td>6</td>\n",
       "    </tr>\n",
       "    <tr>\n",
       "      <th>2</th>\n",
       "      <td>12347.0</td>\n",
       "      <td>31</td>\n",
       "      <td>537626</td>\n",
       "      <td>22375</td>\n",
       "      <td>AIRLINE BAG VINTAGE JET SET BROWN</td>\n",
       "      <td>4</td>\n",
       "      <td>12/7/2010 14:57</td>\n",
       "      <td>4.25</td>\n",
       "      <td>Iceland</td>\n",
       "      <td>2010-12-07 14:57:00</td>\n",
       "      <td>1</td>\n",
       "      <td>6</td>\n",
       "    </tr>\n",
       "    <tr>\n",
       "      <th>3</th>\n",
       "      <td>12347.0</td>\n",
       "      <td>31</td>\n",
       "      <td>537626</td>\n",
       "      <td>71477</td>\n",
       "      <td>COLOUR GLASS. STAR T-LIGHT HOLDER</td>\n",
       "      <td>12</td>\n",
       "      <td>12/7/2010 14:57</td>\n",
       "      <td>3.25</td>\n",
       "      <td>Iceland</td>\n",
       "      <td>2010-12-07 14:57:00</td>\n",
       "      <td>1</td>\n",
       "      <td>6</td>\n",
       "    </tr>\n",
       "    <tr>\n",
       "      <th>4</th>\n",
       "      <td>12347.0</td>\n",
       "      <td>31</td>\n",
       "      <td>537626</td>\n",
       "      <td>22492</td>\n",
       "      <td>MINI PAINT SET VINTAGE</td>\n",
       "      <td>36</td>\n",
       "      <td>12/7/2010 14:57</td>\n",
       "      <td>0.65</td>\n",
       "      <td>Iceland</td>\n",
       "      <td>2010-12-07 14:57:00</td>\n",
       "      <td>1</td>\n",
       "      <td>6</td>\n",
       "    </tr>\n",
       "  </tbody>\n",
       "</table>\n",
       "</div>"
      ],
      "text/plain": [
       "   CustomerID  frequency InvoiceNo StockCode  \\\n",
       "0     12346.0          1    541431     23166   \n",
       "1     12347.0         31    537626     85116   \n",
       "2     12347.0         31    537626     22375   \n",
       "3     12347.0         31    537626     71477   \n",
       "4     12347.0         31    537626     22492   \n",
       "\n",
       "                         Description  Quantity      InvoiceDate  UnitPrice  \\\n",
       "0     MEDIUM CERAMIC TOP STORAGE JAR     74215  1/18/2011 10:01       1.04   \n",
       "1    BLACK CANDELABRA T-LIGHT HOLDER        12  12/7/2010 14:57       2.10   \n",
       "2  AIRLINE BAG VINTAGE JET SET BROWN         4  12/7/2010 14:57       4.25   \n",
       "3  COLOUR GLASS. STAR T-LIGHT HOLDER        12  12/7/2010 14:57       3.25   \n",
       "4            MINI PAINT SET VINTAGE         36  12/7/2010 14:57       0.65   \n",
       "\n",
       "          Country                Date  Rank  recency  \n",
       "0  United Kingdom 2011-01-18 10:01:00     1       48  \n",
       "1         Iceland 2010-12-07 14:57:00     1        6  \n",
       "2         Iceland 2010-12-07 14:57:00     1        6  \n",
       "3         Iceland 2010-12-07 14:57:00     1        6  \n",
       "4         Iceland 2010-12-07 14:57:00     1        6  "
      ]
     },
     "execution_count": 70,
     "metadata": {},
     "output_type": "execute_result"
    }
   ],
   "source": [
    "rec_freq = df_freq.merge(df_rec, on = 'CustomerID')\n",
    "rec_freq.head()"
   ]
  },
  {
   "cell_type": "markdown",
   "id": "e1340080",
   "metadata": {},
   "source": [
    "## Monetary Value"
   ]
  },
  {
   "cell_type": "code",
   "execution_count": 72,
   "id": "860dddb1",
   "metadata": {},
   "outputs": [],
   "source": [
    "rec_freq['total'] = rec_freq['Quantity'] * df['UnitPrice']\n",
    "m = rec_freq.groupby('CustomerID')['total'].sum()\n",
    "m = pd.DataFrame(m).reset_index()\n",
    "m.columns = ['CustomerID', 'monetary_value']"
   ]
  },
  {
   "cell_type": "code",
   "execution_count": 74,
   "id": "5af2b50b",
   "metadata": {
    "scrolled": true
   },
   "outputs": [
    {
     "data": {
      "text/html": [
       "<div>\n",
       "<style scoped>\n",
       "    .dataframe tbody tr th:only-of-type {\n",
       "        vertical-align: middle;\n",
       "    }\n",
       "\n",
       "    .dataframe tbody tr th {\n",
       "        vertical-align: top;\n",
       "    }\n",
       "\n",
       "    .dataframe thead th {\n",
       "        text-align: right;\n",
       "    }\n",
       "</style>\n",
       "<table border=\"1\" class=\"dataframe\">\n",
       "  <thead>\n",
       "    <tr style=\"text-align: right;\">\n",
       "      <th></th>\n",
       "      <th>CustomerID</th>\n",
       "      <th>monetary_value</th>\n",
       "      <th>frequency</th>\n",
       "      <th>InvoiceNo</th>\n",
       "      <th>StockCode</th>\n",
       "      <th>Description</th>\n",
       "      <th>Quantity</th>\n",
       "      <th>InvoiceDate</th>\n",
       "      <th>UnitPrice</th>\n",
       "      <th>Country</th>\n",
       "      <th>Date</th>\n",
       "      <th>Rank</th>\n",
       "      <th>recency</th>\n",
       "      <th>total</th>\n",
       "    </tr>\n",
       "  </thead>\n",
       "  <tbody>\n",
       "    <tr>\n",
       "      <th>0</th>\n",
       "      <td>12346.0</td>\n",
       "      <td>189248.25</td>\n",
       "      <td>1</td>\n",
       "      <td>541431</td>\n",
       "      <td>23166</td>\n",
       "      <td>MEDIUM CERAMIC TOP STORAGE JAR</td>\n",
       "      <td>74215</td>\n",
       "      <td>1/18/2011 10:01</td>\n",
       "      <td>1.04</td>\n",
       "      <td>United Kingdom</td>\n",
       "      <td>2011-01-18 10:01:00</td>\n",
       "      <td>1</td>\n",
       "      <td>48</td>\n",
       "      <td>189248.25</td>\n",
       "    </tr>\n",
       "    <tr>\n",
       "      <th>1</th>\n",
       "      <td>12347.0</td>\n",
       "      <td>1246.73</td>\n",
       "      <td>31</td>\n",
       "      <td>537626</td>\n",
       "      <td>85116</td>\n",
       "      <td>BLACK CANDELABRA T-LIGHT HOLDER</td>\n",
       "      <td>12</td>\n",
       "      <td>12/7/2010 14:57</td>\n",
       "      <td>2.10</td>\n",
       "      <td>Iceland</td>\n",
       "      <td>2010-12-07 14:57:00</td>\n",
       "      <td>1</td>\n",
       "      <td>6</td>\n",
       "      <td>40.68</td>\n",
       "    </tr>\n",
       "    <tr>\n",
       "      <th>2</th>\n",
       "      <td>12347.0</td>\n",
       "      <td>1246.73</td>\n",
       "      <td>31</td>\n",
       "      <td>537626</td>\n",
       "      <td>22375</td>\n",
       "      <td>AIRLINE BAG VINTAGE JET SET BROWN</td>\n",
       "      <td>4</td>\n",
       "      <td>12/7/2010 14:57</td>\n",
       "      <td>4.25</td>\n",
       "      <td>Iceland</td>\n",
       "      <td>2010-12-07 14:57:00</td>\n",
       "      <td>1</td>\n",
       "      <td>6</td>\n",
       "      <td>11.00</td>\n",
       "    </tr>\n",
       "    <tr>\n",
       "      <th>3</th>\n",
       "      <td>12347.0</td>\n",
       "      <td>1246.73</td>\n",
       "      <td>31</td>\n",
       "      <td>537626</td>\n",
       "      <td>71477</td>\n",
       "      <td>COLOUR GLASS. STAR T-LIGHT HOLDER</td>\n",
       "      <td>12</td>\n",
       "      <td>12/7/2010 14:57</td>\n",
       "      <td>3.25</td>\n",
       "      <td>Iceland</td>\n",
       "      <td>2010-12-07 14:57:00</td>\n",
       "      <td>1</td>\n",
       "      <td>6</td>\n",
       "      <td>40.68</td>\n",
       "    </tr>\n",
       "    <tr>\n",
       "      <th>4</th>\n",
       "      <td>12347.0</td>\n",
       "      <td>1246.73</td>\n",
       "      <td>31</td>\n",
       "      <td>537626</td>\n",
       "      <td>22492</td>\n",
       "      <td>MINI PAINT SET VINTAGE</td>\n",
       "      <td>36</td>\n",
       "      <td>12/7/2010 14:57</td>\n",
       "      <td>0.65</td>\n",
       "      <td>Iceland</td>\n",
       "      <td>2010-12-07 14:57:00</td>\n",
       "      <td>1</td>\n",
       "      <td>6</td>\n",
       "      <td>122.04</td>\n",
       "    </tr>\n",
       "  </tbody>\n",
       "</table>\n",
       "</div>"
      ],
      "text/plain": [
       "   CustomerID  monetary_value  frequency InvoiceNo StockCode  \\\n",
       "0     12346.0       189248.25          1    541431     23166   \n",
       "1     12347.0         1246.73         31    537626     85116   \n",
       "2     12347.0         1246.73         31    537626     22375   \n",
       "3     12347.0         1246.73         31    537626     71477   \n",
       "4     12347.0         1246.73         31    537626     22492   \n",
       "\n",
       "                         Description  Quantity      InvoiceDate  UnitPrice  \\\n",
       "0     MEDIUM CERAMIC TOP STORAGE JAR     74215  1/18/2011 10:01       1.04   \n",
       "1    BLACK CANDELABRA T-LIGHT HOLDER        12  12/7/2010 14:57       2.10   \n",
       "2  AIRLINE BAG VINTAGE JET SET BROWN         4  12/7/2010 14:57       4.25   \n",
       "3  COLOUR GLASS. STAR T-LIGHT HOLDER        12  12/7/2010 14:57       3.25   \n",
       "4            MINI PAINT SET VINTAGE         36  12/7/2010 14:57       0.65   \n",
       "\n",
       "          Country                Date  Rank  recency      total  \n",
       "0  United Kingdom 2011-01-18 10:01:00     1       48  189248.25  \n",
       "1         Iceland 2010-12-07 14:57:00     1        6      40.68  \n",
       "2         Iceland 2010-12-07 14:57:00     1        6      11.00  \n",
       "3         Iceland 2010-12-07 14:57:00     1        6      40.68  \n",
       "4         Iceland 2010-12-07 14:57:00     1        6     122.04  "
      ]
     },
     "execution_count": 74,
     "metadata": {},
     "output_type": "execute_result"
    }
   ],
   "source": [
    "rfm = m.merge(rec_freq, on = 'CustomerID')\n",
    "rfm.head()"
   ]
  },
  {
   "cell_type": "code",
   "execution_count": 76,
   "id": "40165c42",
   "metadata": {},
   "outputs": [
    {
     "data": {
      "text/html": [
       "<div>\n",
       "<style scoped>\n",
       "    .dataframe tbody tr th:only-of-type {\n",
       "        vertical-align: middle;\n",
       "    }\n",
       "\n",
       "    .dataframe tbody tr th {\n",
       "        vertical-align: top;\n",
       "    }\n",
       "\n",
       "    .dataframe thead th {\n",
       "        text-align: right;\n",
       "    }\n",
       "</style>\n",
       "<table border=\"1\" class=\"dataframe\">\n",
       "  <thead>\n",
       "    <tr style=\"text-align: right;\">\n",
       "      <th></th>\n",
       "      <th>CustomerID</th>\n",
       "      <th>recency</th>\n",
       "      <th>frequency</th>\n",
       "      <th>monetary_value</th>\n",
       "    </tr>\n",
       "  </thead>\n",
       "  <tbody>\n",
       "    <tr>\n",
       "      <th>0</th>\n",
       "      <td>12346.0</td>\n",
       "      <td>48</td>\n",
       "      <td>1</td>\n",
       "      <td>189248.25</td>\n",
       "    </tr>\n",
       "    <tr>\n",
       "      <th>1</th>\n",
       "      <td>12347.0</td>\n",
       "      <td>6</td>\n",
       "      <td>31</td>\n",
       "      <td>1246.73</td>\n",
       "    </tr>\n",
       "    <tr>\n",
       "      <th>2</th>\n",
       "      <td>12347.0</td>\n",
       "      <td>6</td>\n",
       "      <td>31</td>\n",
       "      <td>1246.73</td>\n",
       "    </tr>\n",
       "    <tr>\n",
       "      <th>3</th>\n",
       "      <td>12347.0</td>\n",
       "      <td>6</td>\n",
       "      <td>31</td>\n",
       "      <td>1246.73</td>\n",
       "    </tr>\n",
       "    <tr>\n",
       "      <th>4</th>\n",
       "      <td>12347.0</td>\n",
       "      <td>6</td>\n",
       "      <td>31</td>\n",
       "      <td>1246.73</td>\n",
       "    </tr>\n",
       "  </tbody>\n",
       "</table>\n",
       "</div>"
      ],
      "text/plain": [
       "   CustomerID  recency  frequency  monetary_value\n",
       "0     12346.0       48          1       189248.25\n",
       "1     12347.0        6         31         1246.73\n",
       "2     12347.0        6         31         1246.73\n",
       "3     12347.0        6         31         1246.73\n",
       "4     12347.0        6         31         1246.73"
      ]
     },
     "execution_count": 76,
     "metadata": {},
     "output_type": "execute_result"
    }
   ],
   "source": [
    "finaldf = rfm[['CustomerID', 'recency', 'frequency', 'monetary_value']]\n",
    "finaldf.head()"
   ]
  },
  {
   "cell_type": "markdown",
   "id": "c42cf50d",
   "metadata": {},
   "source": [
    "### Visualizing the newly created dataframe "
   ]
  },
  {
   "cell_type": "code",
   "execution_count": 81,
   "id": "7ceec433",
   "metadata": {},
   "outputs": [
    {
     "name": "stdout",
     "output_type": "stream",
     "text": [
      "recency: \n"
     ]
    },
    {
     "data": {
      "image/png": "[encoded data removed]",
      "text/plain": [
       "<Figure size 640x480 with 1 Axes>"
      ]
     },
     "metadata": {},
     "output_type": "display_data"
    },
    {
     "name": "stdout",
     "output_type": "stream",
     "text": [
      "frequency: \n"
     ]
    },
    {
     "data": {
      "image/png": "[encoded data removed]",
      "text/plain": [
       "<Figure size 640x480 with 1 Axes>"
      ]
     },
     "metadata": {},
     "output_type": "display_data"
    },
    {
     "name": "stdout",
     "output_type": "stream",
     "text": [
      "monetary_value: \n"
     ]
    },
    {
     "data": {
      "image/png": "[encoded data removed]",
      "text/plain": [
       "<Figure size 640x480 with 1 Axes>"
      ]
     },
     "metadata": {},
     "output_type": "display_data"
    }
   ],
   "source": [
    "colList = ['recency', 'frequency', 'monetary_value']\n",
    "for i in colList:\n",
    "    print(str(i) + ': ')\n",
    "    ax = sns.boxplot(x=finaldf[str(i)])\n",
    "    plt.show()"
   ]
  },
  {
   "cell_type": "markdown",
   "id": "10307a98",
   "metadata": {},
   "source": [
    "### From the charts above, we observe that both Monetary Value and Frequency have outliers. Before we build the model, we need to remove these outliers. \n",
    "\n",
    "\n"
   ]
  },
  {
   "cell_type": "markdown",
   "id": "d7c3073a",
   "metadata": {},
   "source": [
    "## Z-Score"
   ]
  },
  {
   "cell_type": "markdown",
   "id": "33d7484d",
   "metadata": {},
   "source": [
    "### We will use Z-Score to identify the outliers in our data. Z-Score tells us how far a data point is from the mean. The distance is represented in terms of number of standard deviations from the mean. We will filter out data points that are at least 3 SD away from the mean i.e. a zscore >= 3."
   ]
  },
  {
   "cell_type": "code",
   "execution_count": 89,
   "id": "0677439c",
   "metadata": {},
   "outputs": [],
   "source": [
    "from scipy import stats\n",
    "import numpy as np\n",
    "\n",
    "newDF = finaldf[['recency', 'frequency', 'monetary_value']]\n",
    "\n",
    "zscores = stats.zscore(newDF)\n",
    "abs_z_scores = np.abs(zscores)\n",
    "filtered_entries = (abs_z_scores < 3).all(axis = 1)\n",
    "newDF = newDF[filtered_entries]"
   ]
  },
  {
   "cell_type": "code",
   "execution_count": 92,
   "id": "32c1d8fd",
   "metadata": {},
   "outputs": [
    {
     "data": {
      "text/html": [
       "<div>\n",
       "<style scoped>\n",
       "    .dataframe tbody tr th:only-of-type {\n",
       "        vertical-align: middle;\n",
       "    }\n",
       "\n",
       "    .dataframe tbody tr th {\n",
       "        vertical-align: top;\n",
       "    }\n",
       "\n",
       "    .dataframe thead th {\n",
       "        text-align: right;\n",
       "    }\n",
       "</style>\n",
       "<table border=\"1\" class=\"dataframe\">\n",
       "  <thead>\n",
       "    <tr style=\"text-align: right;\">\n",
       "      <th></th>\n",
       "      <th>recency</th>\n",
       "      <th>frequency</th>\n",
       "      <th>monetary_value</th>\n",
       "    </tr>\n",
       "  </thead>\n",
       "  <tbody>\n",
       "    <tr>\n",
       "      <th>100805</th>\n",
       "      <td>172</td>\n",
       "      <td>29</td>\n",
       "      <td>863.4</td>\n",
       "    </tr>\n",
       "    <tr>\n",
       "      <th>100806</th>\n",
       "      <td>172</td>\n",
       "      <td>29</td>\n",
       "      <td>863.4</td>\n",
       "    </tr>\n",
       "    <tr>\n",
       "      <th>100807</th>\n",
       "      <td>172</td>\n",
       "      <td>29</td>\n",
       "      <td>863.4</td>\n",
       "    </tr>\n",
       "    <tr>\n",
       "      <th>100808</th>\n",
       "      <td>172</td>\n",
       "      <td>29</td>\n",
       "      <td>863.4</td>\n",
       "    </tr>\n",
       "    <tr>\n",
       "      <th>100809</th>\n",
       "      <td>172</td>\n",
       "      <td>29</td>\n",
       "      <td>863.4</td>\n",
       "    </tr>\n",
       "  </tbody>\n",
       "</table>\n",
       "</div>"
      ],
      "text/plain": [
       "        recency  frequency  monetary_value\n",
       "100805      172         29           863.4\n",
       "100806      172         29           863.4\n",
       "100807      172         29           863.4\n",
       "100808      172         29           863.4\n",
       "100809      172         29           863.4"
      ]
     },
     "execution_count": 92,
     "metadata": {},
     "output_type": "execute_result"
    }
   ],
   "source": [
    "newDF.tail()"
   ]
  },
  {
   "cell_type": "markdown",
   "id": "5e8f0361",
   "metadata": {},
   "source": [
    "## Standardization"
   ]
  },
  {
   "cell_type": "code",
   "execution_count": 96,
   "id": "63cd5ed3",
   "metadata": {},
   "outputs": [],
   "source": [
    "from sklearn.preprocessing import StandardScaler\n",
    "newDF = newDF.drop_duplicates()\n",
    "col_names = ['recency', 'frequency', 'monetary_value']\n",
    "\n",
    "features = newDF[col_names]\n",
    "scaler = StandardScaler().fit(features.values)\n",
    "features = scaler.transform(features.values)\n",
    "scaled_features = pd.DataFrame(features, columns=col_names)"
   ]
  },
  {
   "cell_type": "code",
   "execution_count": 106,
   "id": "edce3d6b",
   "metadata": {},
   "outputs": [
    {
     "data": {
      "text/html": [
       "<div>\n",
       "<style scoped>\n",
       "    .dataframe tbody tr th:only-of-type {\n",
       "        vertical-align: middle;\n",
       "    }\n",
       "\n",
       "    .dataframe tbody tr th {\n",
       "        vertical-align: top;\n",
       "    }\n",
       "\n",
       "    .dataframe thead th {\n",
       "        text-align: right;\n",
       "    }\n",
       "</style>\n",
       "<table border=\"1\" class=\"dataframe\">\n",
       "  <thead>\n",
       "    <tr style=\"text-align: right;\">\n",
       "      <th></th>\n",
       "      <th>recency</th>\n",
       "      <th>frequency</th>\n",
       "      <th>monetary_value</th>\n",
       "    </tr>\n",
       "  </thead>\n",
       "  <tbody>\n",
       "    <tr>\n",
       "      <th>0</th>\n",
       "      <td>-1.196723</td>\n",
       "      <td>0.379971</td>\n",
       "      <td>0.185080</td>\n",
       "    </tr>\n",
       "    <tr>\n",
       "      <th>1</th>\n",
       "      <td>-1.120665</td>\n",
       "      <td>-0.259085</td>\n",
       "      <td>1.965919</td>\n",
       "    </tr>\n",
       "    <tr>\n",
       "      <th>2</th>\n",
       "      <td>1.752654</td>\n",
       "      <td>2.297138</td>\n",
       "      <td>0.401256</td>\n",
       "    </tr>\n",
       "    <tr>\n",
       "      <th>3</th>\n",
       "      <td>-0.715020</td>\n",
       "      <td>-0.259085</td>\n",
       "      <td>-0.217826</td>\n",
       "    </tr>\n",
       "    <tr>\n",
       "      <th>4</th>\n",
       "      <td>-0.596706</td>\n",
       "      <td>-0.350378</td>\n",
       "      <td>0.011294</td>\n",
       "    </tr>\n",
       "    <tr>\n",
       "      <th>...</th>\n",
       "      <td>...</td>\n",
       "      <td>...</td>\n",
       "      <td>...</td>\n",
       "    </tr>\n",
       "    <tr>\n",
       "      <th>4348</th>\n",
       "      <td>-0.436139</td>\n",
       "      <td>-0.578613</td>\n",
       "      <td>-0.405754</td>\n",
       "    </tr>\n",
       "    <tr>\n",
       "      <th>4349</th>\n",
       "      <td>0.383602</td>\n",
       "      <td>-0.715553</td>\n",
       "      <td>-0.485640</td>\n",
       "    </tr>\n",
       "    <tr>\n",
       "      <th>4350</th>\n",
       "      <td>0.839953</td>\n",
       "      <td>-0.715553</td>\n",
       "      <td>-0.446353</td>\n",
       "    </tr>\n",
       "    <tr>\n",
       "      <th>4351</th>\n",
       "      <td>-0.943195</td>\n",
       "      <td>1.566788</td>\n",
       "      <td>-0.422167</td>\n",
       "    </tr>\n",
       "    <tr>\n",
       "      <th>4352</th>\n",
       "      <td>0.206133</td>\n",
       "      <td>0.288677</td>\n",
       "      <td>-0.037631</td>\n",
       "    </tr>\n",
       "  </tbody>\n",
       "</table>\n",
       "<p>4353 rows × 3 columns</p>\n",
       "</div>"
      ],
      "text/plain": [
       "       recency  frequency  monetary_value\n",
       "0    -1.196723   0.379971        0.185080\n",
       "1    -1.120665  -0.259085        1.965919\n",
       "2     1.752654   2.297138        0.401256\n",
       "3    -0.715020  -0.259085       -0.217826\n",
       "4    -0.596706  -0.350378        0.011294\n",
       "...        ...        ...             ...\n",
       "4348 -0.436139  -0.578613       -0.405754\n",
       "4349  0.383602  -0.715553       -0.485640\n",
       "4350  0.839953  -0.715553       -0.446353\n",
       "4351 -0.943195   1.566788       -0.422167\n",
       "4352  0.206133   0.288677       -0.037631\n",
       "\n",
       "[4353 rows x 3 columns]"
      ]
     },
     "execution_count": 106,
     "metadata": {},
     "output_type": "execute_result"
    }
   ],
   "source": [
    "scaled_features\n"
   ]
  },
  {
   "cell_type": "markdown",
   "id": "70e32eef",
   "metadata": {},
   "source": [
    "## Building the Customer Segmentation Model"
   ]
  },
  {
   "cell_type": "code",
   "execution_count": 109,
   "id": "d25a8afd",
   "metadata": {},
   "outputs": [
    {
     "data": {
      "text/plain": [
       "Text(0, 0.5, 'Inertia')"
      ]
     },
     "execution_count": 109,
     "metadata": {},
     "output_type": "execute_result"
    },
    {
     "data": {
      "image/png": "[encoded data removed]",
      "text/plain": [
       "<Figure size 1200x600 with 1 Axes>"
      ]
     },
     "metadata": {},
     "output_type": "display_data"
    }
   ],
   "source": [
    "import matplotlib.pyplot as plt\n",
    "from sklearn.datasets import make_blobs\n",
    "from sklearn.cluster import KMeans\n",
    "from sklearn.metrics import silhouette_score\n",
    "from sklearn.decomposition import PCA\n",
    "from mpl_toolkits.mplot3d import Axes3D\n",
    "SSE = []\n",
    "\n",
    "for cluster in range(1,10):\n",
    "    kmeans = KMeans(n_clusters= cluster, init = 'k-means++')\n",
    "    kmeans.fit(scaled_features)\n",
    "    SSE.append(kmeans.inertia_)\n",
    "    \n",
    "frame = pd.DataFrame({'Cluster':range(1,10), 'SSE': SSE})\n",
    "plt.figure(figsize=(12,6))\n",
    "plt.plot(frame['Cluster'], frame['SSE'], marker = 'o')\n",
    "plt.xlabel('Number of Clusters')\n",
    "plt.ylabel('Inertia')\n"
   ]
  },
  {
   "cell_type": "markdown",
   "id": "e5038040",
   "metadata": {},
   "source": [
    "## We notice that the decrease in inertia i.e. clustering getting more efficient, hits an inflection point at 4 clusters (x-axis). This tells us that 4 is the ideal number of clusters that we should have for this data.  "
   ]
  },
  {
   "cell_type": "code",
   "execution_count": 111,
   "id": "8397500a",
   "metadata": {},
   "outputs": [
    {
     "data": {
      "text/plain": [
       "KMeans(n_clusters=4)"
      ]
     },
     "execution_count": 111,
     "metadata": {},
     "output_type": "execute_result"
    }
   ],
   "source": [
    "kmeans = KMeans(n_clusters = 4, init = 'k-means++')\n",
    "kmeans.fit(scaled_features)"
   ]
  },
  {
   "cell_type": "markdown",
   "id": "5e4014ae",
   "metadata": {},
   "source": [
    "### Silhouette score: \n",
    "#### This score is used to evaluate the performance of the model. This coefficient ranges from -1 to +1. Higher coefficient means a better performing model. "
   ]
  },
  {
   "cell_type": "code",
   "execution_count": 112,
   "id": "f67ac590",
   "metadata": {},
   "outputs": [
    {
     "name": "stdout",
     "output_type": "stream",
     "text": [
      "0.43600059110868045\n"
     ]
    }
   ],
   "source": [
    "print(silhouette_score(scaled_features, kmeans.labels_, metric='euclidean'))\n"
   ]
  },
  {
   "cell_type": "markdown",
   "id": "42806c1e",
   "metadata": {},
   "source": [
    "## This model has a score of ~0.44 which is a reasonably well performing model."
   ]
  },
  {
   "cell_type": "markdown",
   "id": "93ff8e75",
   "metadata": {},
   "source": [
    "## Visualizing the clusters\n"
   ]
  },
  {
   "cell_type": "code",
   "execution_count": 118,
   "id": "f200910d",
   "metadata": {},
   "outputs": [],
   "source": [
    "pred = kmeans.predict(scaled_features)\n",
    "frame = pd.DataFrame(newDF)\n",
    "frame['Cluster'] = pred"
   ]
  },
  {
   "cell_type": "code",
   "execution_count": 119,
   "id": "4832afb7",
   "metadata": {},
   "outputs": [
    {
     "data": {
      "image/png": "[encoded data removed]",
      "text/plain": [
       "<Figure size 640x480 with 1 Axes>"
      ]
     },
     "metadata": {},
     "output_type": "display_data"
    },
    {
     "data": {
      "image/png": "[encoded data removed]",
      "text/plain": [
       "<Figure size 640x480 with 1 Axes>"
      ]
     },
     "metadata": {},
     "output_type": "display_data"
    },
    {
     "data": {
      "image/png": "[encoded data removed]",
      "text/plain": [
       "<Figure size 640x480 with 1 Axes>"
      ]
     },
     "metadata": {},
     "output_type": "display_data"
    }
   ],
   "source": [
    "avg_df = frame.groupby(['Cluster'], as_index = False).mean()\n",
    "for i in colList:\n",
    "    sns.barplot(x='Cluster', y = str(i), data = avg_df)\n",
    "    plt.show()\n"
   ]
  },
  {
   "cell_type": "markdown",
   "id": "f3bc588d",
   "metadata": {},
   "source": [
    "## Cluster 0\n",
    "### Users in this cluster are very recent, and should be targeted with new customer promotional offers to establish loyalty to the brand."
   ]
  },
  {
   "cell_type": "markdown",
   "id": "fd6df908",
   "metadata": {},
   "source": [
    "## Cluster 1\n",
    "### This cluster has the highest monetary value by far, but visit the store relatively infrequently. These customers are the best targets for cross-selling or upselling. Based on more analysis, we could also found if these customers are resellers who buy in bulk."
   ]
  },
  {
   "cell_type": "markdown",
   "id": "dfc0eb33",
   "metadata": {},
   "source": [
    "## Cluster 2\n",
    "### The frequency for this cluster is extremely high, but the recency is not. This means that the users in this cluster have stopped visiting the platform lately. Might be worthwhile to offer them a promotional offer as an incentive for coming back and making a purchase, and gather more information through surveys about their experience. "
   ]
  },
  {
   "cell_type": "markdown",
   "id": "04e04687",
   "metadata": {},
   "source": [
    "## Cluster 3\n",
    "### Users in this cluster have low values for all three factors, that means they're visiting the site only occassionally and are likely to visit the site when they're looking for something specific - which is of low monetary value"
   ]
  },
  {
   "cell_type": "code",
   "execution_count": null,
   "id": "5d0fa73c",
   "metadata": {},
   "outputs": [],
   "source": []
  }
 ],
 "metadata": {
  "kernelspec": {
   "display_name": "Python 3 (ipykernel)",
   "language": "python",
   "name": "python3"
  },
  "language_info": {
   "codemirror_mode": {
    "name": "ipython",
    "version": 3
   },
   "file_extension": ".py",
   "mimetype": "text/x-python",
   "name": "python",
   "nbconvert_exporter": "python",
   "pygments_lexer": "ipython3",
   "version": "3.9.13"
  }
 },
 "nbformat": 4,
 "nbformat_minor": 5
}
